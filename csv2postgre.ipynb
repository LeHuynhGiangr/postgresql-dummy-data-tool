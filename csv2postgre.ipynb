{
 "cells": [
  {
   "cell_type": "markdown",
   "metadata": {},
   "source": [
    "# Connect PostgreSQL Server"
   ]
  },
  {
   "cell_type": "code",
   "execution_count": 61,
   "metadata": {},
   "outputs": [],
   "source": [
    "import psycopg2\n",
    "from psycopg2.extensions import ISOLATION_LEVEL_AUTOCOMMIT\n",
    "import os\n",
    "import glob\n",
    "import csv\n",
    "import configparser"
   ]
  },
  {
   "cell_type": "code",
   "execution_count": 62,
   "metadata": {},
   "outputs": [
    {
     "data": {
      "text/plain": [
       "True"
      ]
     },
     "execution_count": 62,
     "metadata": {},
     "output_type": "execute_result"
    }
   ],
   "source": [
    "from dotenv import load_dotenv\n",
    "load_dotenv()"
   ]
  },
  {
   "cell_type": "code",
   "execution_count": 44,
   "metadata": {},
   "outputs": [],
   "source": [
    "# Build connection string\n",
    "server_name = os.getenv('SERVER_NAME')\n",
    "user_name = os.getenv('USER_NAME')\n",
    "password = os.getenv('PASSWORD')\n",
    "server_port = os.getenv('PORT')\n",
    "\n",
    "#postgres is the master database you will connect to before you have created and switched to any other databases\n",
    "master_db = 'postgres'\n",
    "connection_string = f'host={server_name} port={server_port} dbname={master_db} user={user_name} password={password} sslmode=require'\n"
   ]
  },
  {
   "cell_type": "code",
   "execution_count": 46,
   "metadata": {},
   "outputs": [
    {
     "name": "stdout",
     "output_type": "stream",
     "text": [
      "Open connection to postgresql server successfully\n"
     ]
    }
   ],
   "source": [
    "# Open connection\n",
    "pg_session = psycopg2.connect(connection_string)\n",
    "#Auto commit -> No transaction is started when command are issued and no commit() or rollback() is required.\n",
    "pg_session.set_isolation_level(ISOLATION_LEVEL_AUTOCOMMIT)\n",
    "print(\"Open connection to postgresql server successfully\")\n"
   ]
  },
  {
   "cell_type": "markdown",
   "metadata": {},
   "source": [
    "# Create Database (DB)"
   ]
  },
  {
   "cell_type": "code",
   "execution_count": 47,
   "metadata": {},
   "outputs": [],
   "source": [
    "operational_db = os.getenv('DATABASE')"
   ]
  },
  {
   "cell_type": "code",
   "execution_count": 48,
   "metadata": {},
   "outputs": [
    {
     "name": "stdout",
     "output_type": "stream",
     "text": [
      "Init sql proccessor successfully\n"
     ]
    }
   ],
   "source": [
    "# Init a SQL processor\n",
    "sql_processor = pg_session.cursor()\n",
    "print(\"Init sql proccessor successfully\")"
   ]
  },
  {
   "cell_type": "code",
   "execution_count": 49,
   "metadata": {},
   "outputs": [],
   "source": [
    "sql_processor.execute(f'DROP DATABASE IF EXISTS {operational_db}')"
   ]
  },
  {
   "cell_type": "code",
   "execution_count": 50,
   "metadata": {},
   "outputs": [],
   "source": [
    "sql_processor.execute(f\"CREATE DATABASE {operational_db}\")"
   ]
  },
  {
   "cell_type": "code",
   "execution_count": 51,
   "metadata": {},
   "outputs": [],
   "source": [
    "sql_processor.close()\n",
    "pg_session.close()"
   ]
  },
  {
   "cell_type": "markdown",
   "metadata": {},
   "source": [
    "# Switch 2 Operational DB & Dumping Data"
   ]
  },
  {
   "cell_type": "markdown",
   "metadata": {},
   "source": [
    "## Switch DB"
   ]
  },
  {
   "cell_type": "code",
   "execution_count": 52,
   "metadata": {},
   "outputs": [
    {
     "name": "stdout",
     "output_type": "stream",
     "text": [
      "Open connection to postgresql server successfully\n"
     ]
    }
   ],
   "source": [
    "connection_string = f'host={server_name} port={server_port} dbname={operational_db} user={user_name} password={password} sslmode=require'\n",
    "print(\"Open connection to postgresql server successfully\")"
   ]
  },
  {
   "cell_type": "markdown",
   "metadata": {},
   "source": [
    "## Dumping"
   ]
  },
  {
   "cell_type": "code",
   "execution_count": 53,
   "metadata": {},
   "outputs": [],
   "source": [
    "# Get list of paths to data files\n",
    "filepath = os.getcwd() + '\\data'\n",
    "for root, dirs, files in os.walk(filepath):\n",
    "    file_path_list = glob.glob(os.path.join(root,'*'))"
   ]
  },
  {
   "cell_type": "code",
   "execution_count": 63,
   "metadata": {},
   "outputs": [],
   "source": [
    "# Prepare sql\n",
    "get_drop_exist_table_query = lambda table_name : f\"DROP TABLE IF EXISTS {table_name}\"\n",
    "get_create_query = lambda table_name, column_def : f\"CREATE TABLE {table_name} ({column_def})\""
   ]
  },
  {
   "cell_type": "code",
   "execution_count": 66,
   "metadata": {},
   "outputs": [],
   "source": [
    "config = configparser.ConfigParser()\n",
    "config.read('./csv2postgre.table.ini')\n",
    "TABLE_NAME_KEY = \"table_name\"\n",
    "COLUMN_DEF_KEY = \"column_def\"\n"
   ]
  },
  {
   "cell_type": "code",
   "execution_count": 68,
   "metadata": {},
   "outputs": [
    {
     "name": "stdout",
     "output_type": "stream",
     "text": [
      "DROP TABLE IF EXISTS payment\n",
      "CREATE TABLE payment (payment_id INTEGER PRIMARY KEY, date DATE, amount MONEY, rider_id INTEGER)\n",
      "DROP TABLE IF EXISTS rider\n",
      "CREATE TABLE rider (rider_id INTEGER PRIMARY KEY, first VARCHAR(50), last VARCHAR(50), address VARCHAR(100), birthday DATE, account_start_date DATE, account_end_date DATE, is_member BOOLEAN)\n",
      "DROP TABLE IF EXISTS station\n",
      "CREATE TABLE station (station_id VARCHAR(50) PRIMARY KEY, name VARCHAR(75), latitude FLOAT, longitude FLOAT)\n",
      "DROP TABLE IF EXISTS trip\n",
      "CREATE TABLE trip (trip_id VARCHAR(50) PRIMARY KEY, rideable_type VARCHAR(75), start_at TIMESTAMP, ended_at TIMESTAMP, start_station_id VARCHAR(50), end_station_id VARCHAR(50), rider_id INTEGER)\n",
      "Finished populating\n"
     ]
    }
   ],
   "source": [
    "pg_session = psycopg2.connect(connection_string)\n",
    "try:\n",
    "    with pg_session.cursor() as sql_processor:\n",
    "        try:\n",
    "            for path in config.sections():\n",
    "            # reading csv file \n",
    "                with open(path, 'r', encoding = 'utf8', newline='') as csvfile:\n",
    "                    table_name = config[path][TABLE_NAME_KEY]\n",
    "                    column_def = config[path][COLUMN_DEF_KEY]\n",
    "                    drop_exist_table_query = get_drop_exist_table_query(table_name)\n",
    "                    create_query = get_create_query(table_name, column_def)\n",
    "                    sql_processor.execute(drop_exist_table_query)\n",
    "                    sql_processor.execute(create_query)\n",
    "                    sql_processor.copy_from(csvfile, table_name, sep=\",\", null = \"\")\n",
    "                    pg_session.commit()\n",
    "                    print(drop_exist_table_query)\n",
    "                    print(create_query)\n",
    "        except (Exception, psycopg2.DatabaseError) as error:\n",
    "            print('Error: %s' % error)\n",
    "            pg_session.rollback()\n",
    "        else:\n",
    "            print('Finished populating')\n",
    "finally:\n",
    "    pg_session.close()"
   ]
  }
 ],
 "metadata": {
  "kernelspec": {
   "display_name": "Python 3.11.1 ('pyvenv')",
   "language": "python",
   "name": "python3"
  },
  "language_info": {
   "codemirror_mode": {
    "name": "ipython",
    "version": 3
   },
   "file_extension": ".py",
   "mimetype": "text/x-python",
   "name": "python",
   "nbconvert_exporter": "python",
   "pygments_lexer": "ipython3",
   "version": "3.11.1"
  },
  "orig_nbformat": 4,
  "vscode": {
   "interpreter": {
    "hash": "432e4d6e6d0b019ed7beea7a713fffbb200e1756bf9bbeacdb0bce7f258c4180"
   }
  }
 },
 "nbformat": 4,
 "nbformat_minor": 2
}
